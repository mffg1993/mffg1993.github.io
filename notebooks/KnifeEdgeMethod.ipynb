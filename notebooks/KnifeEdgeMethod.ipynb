{
 "cells": [
  {
   "cell_type": "markdown",
   "id": "fccac5ed",
   "metadata": {},
   "source": [
    "# Overview of the Knife-Edge Method\n",
    "\n",
    "The Knife-Edge method is a simple and effective way to measure the width of a laser beam, especially when dealing with Gaussian beams. In this method, a sharp blade (the \"knife edge\") is moved across the laser beam, and the transmitted power (or intensity) of the beam is measured as a function of the knife-edge position. The result is a power-vs-position curve, from which the beam's width can be determined.\n",
    "\n",
    "##  How it Works? \n",
    "\n",
    "- A knife-edge (usually a straight edge) is moved perpendicular to the propagation axis of the laser beam.\n",
    "- As the knife-edge blocks part of the beam, the power (or intensity) reaching a detector decreases.\n",
    "- The power is recorded at various positions of the knife-edge as it moves across the beam.\n",
    "- From the recorded power values, it is possible to obtain the waist of the beam by curve fitting the cumulative Gaussian distribution"
   ]
  },
  {
   "cell_type": "markdown",
   "id": "a5275693",
   "metadata": {},
   "source": [
    "## Gaussian beams and Cumulative Gaussian function\n",
    "\n",
    "\n",
    "The transverse intensity $I(x)$ of a Gaussian beam can be described as \n",
    "\n",
    "$$ I(x) = I_0 \\exp \\left[-\\frac{2 x^2}{w_0^2}\\right]$$\n",
    "\n",
    "\n",
    "where $I_0$ is the peak intensity at the beam center and $w_0$ is the beam waist (radius). \n",
    "\n",
    "Let us consider the scenario in which we place a power meter on the beam's path. As the knife moves thorough the beam, it progressively blocks the intensity profile, changing the amount of power that the detector registers. It is easy to see that the recorded power follows a cumulative Gaussian distribution\n",
    "\n",
    "$$ \\Phi(x)=I_0\\int_{x}^{\\infty} \\exp \\left[-\\frac{2 x^2}{w_0^2}\\right] dx$$\n",
    "\n",
    "Animation shown below, depicts the normalized power measured by the detector as we move the sharp knife-edge. \n"
   ]
  },
  {
   "cell_type": "code",
   "execution_count": 69,
   "id": "41f5e077",
   "metadata": {},
   "outputs": [
    {
     "data": {
      "application/vnd.jupyter.widget-view+json": {
       "model_id": "9590479e78dd4319a5b5357b632bc967",
       "version_major": 2,
       "version_minor": 0
      },
      "text/plain": [
       "VBox(children=(FloatSlider(value=0.0, description='Knife-edge Position', layout=Layout(width='70%'), max=5.0, …"
      ]
     },
     "metadata": {},
     "output_type": "display_data"
    }
   ],
   "source": [
    "import numpy as np\n",
    "import matplotlib.pyplot as plt\n",
    "from scipy.special import erf\n",
    "import ipywidgets as widgets\n",
    "from ipywidgets import interact, interactive_output\n",
    "from IPython.display import display\n",
    "\n",
    "# Gaussian function definition\n",
    "def gaussian(x, mean, sigma):\n",
    "    return np.exp(- (x - mean) ** 2 / (2 * sigma ** 2))\n",
    "\n",
    "# Cumulative Gaussian (Error Function) definition\n",
    "def cumulative_gaussian(x, mean, sigma):\n",
    "    return 0.5 * (1 - erf((x - mean) / (np.sqrt(2) * sigma)))\n",
    "\n",
    "# Plotting function that updates based on slider values\n",
    "def plot_gaussian_and_cumulative(x_pos=0.0, mean=0.0, sigma=1.0):\n",
    "    x = np.linspace(-5, 5, 400)\n",
    "    \n",
    "    # Compute Gaussian and cumulative Gaussian values\n",
    "    gauss = gaussian(x, mean, sigma)\n",
    "    cum_gauss = cumulative_gaussian(x, mean, sigma)\n",
    "    \n",
    "    # Create the figure and subplots\n",
    "    fig, ax = plt.subplots(2, 1, figsize=(8, 8))  # Adjust figure size to make it wider\n",
    "    \n",
    "    # Plot Gaussian distribution\n",
    "    ax[0].plot(x, gauss, label=\"Gaussian Beam Profile\")\n",
    "    ax[0].axvline(x=x_pos, color='r', linestyle='--', label=f\"Knife-edge at x={x_pos}\")\n",
    "    \n",
    "    # Create the rectangle to represent the knife-edge blocking the beam\n",
    "    ax[0].fill_between(x, 0, gauss, where=(x <= x_pos), color='red', alpha=0.3, label=\"Blocked by Knife-edge\")\n",
    "    ax[0].add_patch(plt.Rectangle((-5, 0), x_pos + 5, 1, color='Black', alpha=0.7, label=\"Knife-edge Area\"))\n",
    "\n",
    "    ax[0].set_title('Gaussian Beam Profile with Knife-edge Block')\n",
    "    ax[0].set_xlabel('Position (x)')\n",
    "    ax[0].set_ylabel('Intensity')\n",
    "    ax[0].legend(loc='upper right')\n",
    "    \n",
    "    # Plot cumulative Gaussian (error function)\n",
    "    ax[1].plot(x, cum_gauss, label=\"Cumulative Power (Error Function)\")\n",
    "    ax[1].axvline(x=x_pos, color='r', linestyle='--', label=f\"Knife-edge at x={x_pos}\")\n",
    "    ax[1].set_title('Cumulative Power vs Knife-edge Position')\n",
    "    ax[1].set_xlabel('Position (x)')\n",
    "    ax[1].set_ylabel('Cumulative Power')\n",
    "    ax[1].legend(loc='lower right')\n",
    "    \n",
    "    plt.tight_layout()\n",
    "    plt.show()\n",
    "\n",
    "# Create widgets for sliders with wider layout\n",
    "slider_layout = widgets.Layout(width='70%')  # Set wider width for sliders\n",
    "x_pos_slider = widgets.FloatSlider(value=0.0, min=-5.0, max=5.0, step=0.1, description='Knife-edge Position', layout=slider_layout)\n",
    "mean_slider = widgets.FloatSlider(value=0.0, min=-5.0, max=5.0, step=0.1, description='Mean', layout=slider_layout)\n",
    "sigma_slider = widgets.FloatSlider(value=1.0, min=0.1, max=3.0, step=0.1, description='Sigma', layout=slider_layout)\n",
    "\n",
    "# Output widget for the plot\n",
    "output = widgets.Output()\n",
    "\n",
    "# Function to update the plot and display it in the output widget\n",
    "def update_plot(x_pos, mean, sigma):\n",
    "    with output:\n",
    "        output.clear_output(wait=True)  # Clear the previous plot\n",
    "        plot_gaussian_and_cumulative(x_pos, mean, sigma)\n",
    "\n",
    "# Use interactive_output to connect the sliders to the update_plot function\n",
    "interactive_plot = interactive_output(update_plot, {'x_pos': x_pos_slider, 'mean': mean_slider, 'sigma': sigma_slider})\n",
    "\n",
    "# Display the sliders and the plot below them\n",
    "display(widgets.VBox([x_pos_slider, mean_slider, sigma_slider, output]))\n"
   ]
  },
  {
   "cell_type": "markdown",
   "id": "dd90c889",
   "metadata": {},
   "source": [
    "Therefore, it is possible to extract the width of the Gaussian beam at the measuring plane by fitting the recorded data to the expression\n",
    "\n",
    "$$P(x)= \\frac{A}{2} \\left[ 1-\\text{erf}\\left(\\frac{x-x0}{w_0}\\right)\\right]+B $$\n",
    "\n",
    "where $P(x)$ corresponds to the measured power after a the knife has been displaced a distance $x$, $x_0$ is the position of the beam center, $w_0$ is the beam radius (not the waist). $A$ is scaling factor for the total power while $B$ is an offset to account for the backgroud power. \n",
    "\n",
    "\n"
   ]
  },
  {
   "cell_type": "code",
   "execution_count": 71,
   "id": "544a9099",
   "metadata": {},
   "outputs": [
    {
     "name": "stdout",
     "output_type": "stream",
     "text": [
      "Fitted center position x0 [cm]: 0.1500\n",
      "Calculated beam width [cm]: 0.0408\n"
     ]
    },
    {
     "data": {
      "image/png": "[encoded data removed]",
      "text/plain": [
       "<Figure size 640x480 with 1 Axes>"
      ]
     },
     "metadata": {},
     "output_type": "display_data"
    }
   ],
   "source": [
    "\n",
    "# Define the error function, which is the integral of a Gaussian\n",
    "def error_function(x, x0, w, A, B):\n",
    "    return A * 0.5 * (1 + erf((x - x0) / (np.sqrt(2) * w))) + B\n",
    "\n",
    "# Import the Data Array\n",
    "data = np.loadtxt(\"C:/Users/mferrerg/Documents/Try1.csv\", delimiter=',', skiprows=0, encoding='utf-8-sig')\n",
    "\n",
    "knife_edge_positions = data[:,0]\n",
    "measured_powers =1 - data[:,1]/np.max(data[:,1])\n",
    "\n",
    "# Initial guess for the parameters: [x0, w, A, B]\n",
    "initial_guess = [0.5, 0.1, 1.0, 0.0]\n",
    "\n",
    "# Fit the error function to the data\n",
    "params, covariance = curve_fit(error_function, knife_edge_positions, measured_powers, p0=initial_guess)\n",
    "\n",
    "# Extract the fitted parameters\n",
    "x0, w, A, B = params\n",
    "\n",
    "# Calculate the beam width (1/e² width)\n",
    "beam_width = w\n",
    "\n",
    "# Print the results\n",
    "print(f\"Fitted center position x0 [cm]: {x0:.4f}\")\n",
    "print(f\"Calculated beam width [cm]: {beam_width:.4f}\")\n",
    "\n",
    "# Plot the data and the fitted curve\n",
    "plt.figure()\n",
    "plt.plot(knife_edge_positions, measured_powers, 'bo', label='Measured data')\n",
    "plt.plot(knife_edge_positions, error_function(knife_edge_positions, *params), 'r-', label='Fitted curve')\n",
    "plt.xlabel('Knife-edge Position')\n",
    "plt.ylabel('Measured Power')\n",
    "plt.title('Knife-edge Measurement and Gaussian Fit')\n",
    "plt.legend()\n",
    "plt.show()\n"
   ]
  },
  {
   "cell_type": "code",
   "execution_count": null,
   "id": "7ddb6254",
   "metadata": {},
   "outputs": [],
   "source": []
  },
  {
   "cell_type": "code",
   "execution_count": null,
   "id": "16334ef7",
   "metadata": {},
   "outputs": [],
   "source": []
  },
  {
   "cell_type": "code",
   "execution_count": null,
   "id": "0ac13571",
   "metadata": {},
   "outputs": [],
   "source": []
  },
  {
   "cell_type": "code",
   "execution_count": null,
   "id": "2ebba601",
   "metadata": {},
   "outputs": [],
   "source": []
  },
  {
   "cell_type": "code",
   "execution_count": null,
   "id": "f8a57336",
   "metadata": {},
   "outputs": [],
   "source": []
  }
 ],
 "metadata": {
  "kernelspec": {
   "display_name": "Python 3 (ipykernel)",
   "language": "python",
   "name": "python3"
  },
  "language_info": {
   "codemirror_mode": {
    "name": "ipython",
    "version": 3
   },
   "file_extension": ".py",
   "mimetype": "text/x-python",
   "name": "python",
   "nbconvert_exporter": "python",
   "pygments_lexer": "ipython3",
   "version": "3.11.5"
  }
 },
 "nbformat": 4,
 "nbformat_minor": 5
}
